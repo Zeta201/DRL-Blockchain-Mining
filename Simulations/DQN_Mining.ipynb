{
  "nbformat": 4,
  "nbformat_minor": 0,
  "metadata": {
    "colab": {
      "provenance": []
    },
    "kernelspec": {
      "name": "python3",
      "display_name": "Python 3"
    },
    "language_info": {
      "name": "python"
    }
  },
  "cells": [
    {
      "cell_type": "code",
      "execution_count": 2,
      "metadata": {
        "id": "z-nWnnHFjJAZ",
        "colab": {
          "base_uri": "https://localhost:8080/"
        },
        "outputId": "bdfa2d92-34bd-47b6-c8d4-3af1eebcce95"
      },
      "outputs": [
        {
          "output_type": "stream",
          "name": "stdout",
          "text": [
            "Collecting pymdptoolbox\n",
            "  Downloading pymdptoolbox-4.0-b3.zip (29 kB)\n",
            "  Preparing metadata (setup.py) ... \u001b[?25l\u001b[?25hdone\n",
            "Requirement already satisfied: numpy in /usr/local/lib/python3.10/dist-packages (from pymdptoolbox) (1.25.2)\n",
            "Requirement already satisfied: scipy in /usr/local/lib/python3.10/dist-packages (from pymdptoolbox) (1.11.4)\n",
            "Building wheels for collected packages: pymdptoolbox\n",
            "  Building wheel for pymdptoolbox (setup.py) ... \u001b[?25l\u001b[?25hdone\n",
            "  Created wheel for pymdptoolbox: filename=pymdptoolbox-4.0b3-py3-none-any.whl size=25656 sha256=17fe6686641cc58ee322276f984f9d4cdf3fdfb7899dcbc9335adc0032a50a8f\n",
            "  Stored in directory: /root/.cache/pip/wheels/2b/e7/c7/d7abf9e309f3573a934fed2750c70bd75d9e9d901f7f16e183\n",
            "Successfully built pymdptoolbox\n",
            "Installing collected packages: pymdptoolbox\n",
            "Successfully installed pymdptoolbox-4.0b3\n"
          ]
        }
      ],
      "source": [
        "!pip install pymdptoolbox"
      ]
    },
    {
      "cell_type": "markdown",
      "source": [
        "# Mining Environment"
      ],
      "metadata": {
        "id": "cTAbkptTbGGp"
      }
    },
    {
      "cell_type": "code",
      "source": [
        "import mdptoolbox, mdptoolbox.example\n",
        "import numpy as np\n",
        "import enum"
      ],
      "metadata": {
        "id": "VRvLRKcZjNUy"
      },
      "execution_count": 3,
      "outputs": []
    },
    {
      "cell_type": "code",
      "source": [
        "class State:\n",
        "    def __init__(self, l_a, l_h, b_e, match=\"relevant\"):\n",
        "        self.length_a = l_a\n",
        "        self.length_h = l_h\n",
        "        self.blocks_e = b_e\n",
        "        self.match = match\n",
        "        self.match_dict = {'irrelevant': 0, 'relevant': 1, 'active': 2}\n",
        "\n",
        "\n",
        "    def __hash__(self):\n",
        "        return hash((self.length_a, self.length_h, self.blocks_e, self.match))\n",
        "\n",
        "    def __eq__(self, other):\n",
        "        try:\n",
        "            return (self.length_a, self.length_h, self.blocks_e, self.match) == (other.length_a, other.length_h, other.blocks_e, other.match)\n",
        "        except:\n",
        "            return False\n",
        "\n",
        "    def __ne__(self, other):\n",
        "        return not (self == other)\n",
        "\n",
        "    def __repr__(self):\n",
        "        return \"(%d, %d, %d, %s)\" % (self.length_a, self.length_h, self.blocks_e, self.match)\n",
        "\n",
        "    def to_numpy(self):\n",
        "      return np.array([self.length_a, self.length_h, self.blocks_e, self.match_dict[self.match]])\n"
      ],
      "metadata": {
        "id": "dsc7WuVG8IRg"
      },
      "execution_count": 4,
      "outputs": []
    },
    {
      "cell_type": "code",
      "source": [
        "class MiningEnv():\n",
        "\n",
        "  def __init__(self, p, stale, gamma, cost, cutoff=20, lam=0):\n",
        "    self.p = p\n",
        "    self.cutoff = cutoff\n",
        "    self.lam = lam\n",
        "    self.match_cases = [\"irrelevant\", \"relevant\", \"active\"]\n",
        "    self.a_cost = cost * p\n",
        "    self.h_cost = cost * (1 - p)\n",
        "    self.q = 1 - p - lam\n",
        "    self.stale = stale\n",
        "    self.gamma = gamma\n",
        "    self.current_state = State(0, 0, 0, 'irrelevant')\n",
        "    state_count = 0\n",
        "    self.states = {}\n",
        "    self.states_inverted = {}\n",
        "    for l_a in range(self.cutoff + 1):\n",
        "      for l_h in range(self.cutoff + 1):\n",
        "        for b_e in range(l_a + 1):\n",
        "          if self.lam == 0 and b_e > 0:\n",
        "            continue\n",
        "          for match in self.match_cases:\n",
        "            state = State(l_a, l_h, b_e, match)\n",
        "            self.states[state_count] = state\n",
        "            self.states_inverted[state] = state_count\n",
        "            state_count += 1\n",
        "    self.states_counter = state_count\n",
        "\n",
        "    # transition matrices\n",
        "    P_adopt = np.zeros(shape=(state_count, state_count))\n",
        "    P_override = np.zeros(shape=(state_count, state_count))\n",
        "    P_match = np.zeros(shape=(state_count, state_count))\n",
        "    P_wait = np.zeros(shape=(state_count, state_count))\n",
        "\n",
        "    # reward matrices\n",
        "    R_adopt = np.empty(shape=(state_count, state_count), dtype=object)\n",
        "    R_override = np.empty(shape=(state_count, state_count), dtype=object)\n",
        "    R_match = np.empty(shape=(state_count, state_count), dtype=object)\n",
        "    R_wait = np.empty(shape=(state_count, state_count), dtype=object)\n",
        "\n",
        "    for state_idx, state in self.states.items():\n",
        "      l_a = state.length_a\n",
        "      l_h = state.length_h\n",
        "      b_e = state.blocks_e\n",
        "      match = state.match\n",
        "\n",
        "      # adopt action transition matrix\n",
        "      # attacker mines next block\n",
        "      P_adopt[state_idx, self.states_inverted[State(1, 0, 0, \"irrelevant\")]] = self.p\n",
        "      R_adopt[state_idx, self.states_inverted[State(1, 0, 0, \"irrelevant\")]] = (-self.a_cost, l_h - self.h_cost)\n",
        "\n",
        "      # eclipsed node mines next block\n",
        "      if self.lam != 0:\n",
        "        P_adopt[state_idx, self.states_inverted[State(1, 0, 1, \"irrelevant\")]] = self.lam\n",
        "        R_adopt[state_idx, self.states_inverted[State(1, 0, 1, \"irrelevant\")]] = (-self.a_cost, l_h - self.h_cost)\n",
        "\n",
        "      # honest network mines next block\n",
        "      P_adopt[state_idx, self.states_inverted[State(0, 1, 0, \"relevant\")]] = self.q*(1-self.stale)\n",
        "      R_adopt[state_idx, self.states_inverted[State(0, 1, 0, \"relevant\")]] = (-self.a_cost, l_h - self.h_cost)\n",
        "\n",
        "      # network mines state block\n",
        "      P_adopt[state_idx, self.states_inverted[State(0, 0, 0, \"irrelevant\")]] = self.q * self.stale\n",
        "      R_adopt[state_idx, self.states_inverted[State(0, 0, 0, \"irrelevant\")]] = (-self.a_cost, l_h - self.h_cost)\n",
        "\n",
        "      # override action transition matrix\n",
        "      if l_a > l_h:\n",
        "        payout = (l_h+1)*(l_a - b_e)//l_a\n",
        "        new_b_e = b_e - (l_h+1 - payout)\n",
        "      # attacker mines next block\n",
        "        P_override[state_idx, self.states_inverted[State(l_a - l_h, 0, new_b_e, \"irrelevant\")]] = self.p\n",
        "        R_override[state_idx, self.states_inverted[State(l_a - l_h, 0, new_b_e, \"irrelevant\")]] = (payout - self.a_cost, b_e - new_b_e - self.h_cost)\n",
        "\n",
        "      # eclipsed node mines next block\n",
        "        if self.lam != 0:\n",
        "          P_override[state_idx, self.states_inverted[State(l_a - l_h, 0, new_b_e + 1, \"irrelevant\")]] = self.lam\n",
        "          R_override[state_idx, self.states_inverted[State(l_a - l_h, 0, new_b_e + 1, \"irrelevant\")]] = (payout - self.a_cost, b_e - new_b_e - self.h_cost)\n",
        "\n",
        "      # network mines next block\n",
        "        P_override[state_idx, self.states_inverted[State(l_a-l_h-1, 1, new_b_e, \"relevant\")]] = self.q*(1 - self.stale)\n",
        "        R_override[state_idx, self.states_inverted[State(l_a-l_h-1, 1, new_b_e, \"relevant\")]] = (payout - self.a_cost, b_e - new_b_e - self.h_cost)\n",
        "\n",
        "      # network mines stale block\n",
        "        P_override[state_idx, self.states_inverted[State(l_a-l_h-1, 0, new_b_e, \"irrelevant\")]] = self.q*self.stale\n",
        "        R_override[state_idx, self.states_inverted[State(l_a-l_h-1, 0, new_b_e, \"irrelevant\")]] = (payout - self.a_cost, b_e - new_b_e - self.h_cost)\n",
        "\n",
        "      else:\n",
        "        P_override[state_idx, state_idx] = 1\n",
        "        R_override[state_idx, state_idx] = (-100, -100)\n",
        "\n",
        "      # perform adopt and override after cutoff reached\n",
        "      if l_a == self.cutoff or l_h == self.cutoff:\n",
        "        P_match[state_idx, state_idx] = 1\n",
        "        R_match[state_idx, state_idx] = (-100, -100)\n",
        "        P_wait[state_idx, state_idx] = 1\n",
        "        R_wait[state_idx, state_idx] = (-100, -100)\n",
        "        continue\n",
        "\n",
        "\n",
        "      # match action transition matrix\n",
        "      if match == 'relevant' and l_a >= l_h and l_h > 0:\n",
        "        payout = (l_h)*(l_a - b_e)//l_a\n",
        "        new_b_e = b_e - (l_h - payout)\n",
        "\n",
        "        # attacker mines next block\n",
        "        P_match[state_idx, self.states_inverted[State(l_a + 1, l_h, b_e, \"active\")]] = self.p\n",
        "        R_match[state_idx, self.states_inverted[State(l_a + 1, l_h, b_e, \"active\")]] =  (-self.a_cost, -self.h_cost)\n",
        "\n",
        "        # eclipsed node mines next block\n",
        "        if self.lam != 0:\n",
        "          P_match[state_idx, self.states_inverted[State(l_a + 1, l_h, b_e+1, \"active\")]] = self.lam\n",
        "          R_match[state_idx, self.states_inverted[State(l_a + 1, l_h, b_e+1, \"active\")]] = (-self.a_cost, -self.h_cost)\n",
        "\n",
        "        # network mines next block after pool's head\n",
        "        P_match[state_idx, self.states_inverted[State(l_a - l_h, 1, new_b_e, \"relevant\")]] = self.gamma * self.q * (1 - self.stale)\n",
        "        R_match[state_idx, self.states_inverted[State(l_a - l_h, 1, new_b_e, \"relevant\")]] = (payout - self.a_cost, b_e - new_b_e - self.h_cost)\n",
        "\n",
        "        # network mines next block after other's head\n",
        "        P_match[state_idx, self.states_inverted[State(l_a, l_h + 1, b_e, \"relevant\")]] = (1-self.gamma) * self.q * (1 - self.stale)\n",
        "        R_match[state_idx, self.states_inverted[State(l_a, l_h + 1, b_e, \"relevant\")]] = (-self.a_cost, -self.h_cost)\n",
        "\n",
        "        # network mines stale block\n",
        "        P_match[state_idx, self.states_inverted[State(l_a, l_h, b_e, \"active\")]] = self.q * self.stale\n",
        "        R_match[state_idx, self.states_inverted[State(l_a, l_h, b_e, \"active\")]] = (-self.a_cost, -self.h_cost)\n",
        "      else:\n",
        "        P_match[state_idx, state_idx] = 1\n",
        "        R_match[state_idx, state_idx] = (-100, -100)\n",
        "\n",
        "      # wait action transition matrix\n",
        "      if match == 'active' and l_a >= l_h and l_h > 0:\n",
        "        payout = (l_h)*(l_a - b_e)//l_a\n",
        "        new_b_e = b_e - (l_h - payout)\n",
        "\n",
        "        # attacker mines next block\n",
        "        P_wait[state_idx, self.states_inverted[State(l_a + 1, l_h, b_e, \"active\")]] = self.p\n",
        "        R_wait[state_idx, self.states_inverted[State(l_a + 1, l_h, b_e, \"active\")]] = (-self.a_cost, -self.h_cost)\n",
        "\n",
        "        # eclipsed node mines next block\n",
        "        if self.lam != 0:\n",
        "          P_wait[state_idx, self.states_inverted[State(l_a + 1, l_h, b_e+1, \"active\")]] = self.lam\n",
        "          R_wait[state_idx, self.states_inverted[State(l_a + 1, l_h, b_e+1, \"active\")]] = (-self.a_cost, -self.h_cost)\n",
        "\n",
        "        # network mines after the pool's head\n",
        "        P_wait[state_idx, self.states_inverted[State(l_a - l_h, 1, new_b_e, \"relevant\")]] = self.gamma * self.q * (1 - self.stale)\n",
        "        R_wait[state_idx, self.states_inverted[State(l_a - l_h, 1, new_b_e, \"relevant\")]] = (payout - self.a_cost, b_e - new_b_e - self.h_cost)\n",
        "\n",
        "        # network mines after other's head\n",
        "        P_wait[state_idx, self.states_inverted[State(l_a, l_h + 1, b_e, \"relevant\")]] = (1-self.gamma) * self.q * (1 - self.stale)\n",
        "        R_wait[state_idx, self.states_inverted[State(l_a, l_h + 1, b_e, \"relevant\")]] = (-self.a_cost, -self.h_cost)\n",
        "\n",
        "        # network mines stale block\n",
        "        P_wait[state_idx, self.states_inverted[State(l_a, l_h, b_e, \"active\")]] = self.q * self.stale\n",
        "        R_wait[state_idx, self.states_inverted[State(l_a, l_h, b_e, \"active\")]] = (-self.a_cost, -self.h_cost)\n",
        "\n",
        "      else:\n",
        "        # attacker mines next block\n",
        "        P_wait[state_idx, self.states_inverted[State(l_a + 1, l_h, b_e, \"irrelevant\")]] = self.p\n",
        "        R_wait[state_idx, self.states_inverted[State(l_a + 1, l_h, b_e, \"irrelevant\")]] = (-self.a_cost, -self.h_cost)\n",
        "\n",
        "        # eclipsed node mines next block\n",
        "        if self.lam != 0:\n",
        "          P_wait[state_idx, self.states_inverted[State(l_a + 1, l_h, b_e+1, \"irrelevant\")]] = self.lam\n",
        "          R_wait[state_idx, self.states_inverted[State(l_a + 1, l_h, b_e+1, \"irrelevant\")]] = (-self.a_cost, -self.h_cost)\n",
        "\n",
        "        # network mines next block\n",
        "        P_wait[state_idx, self.states_inverted[State(l_a, l_h + 1, b_e, \"relevant\")]] = self.q * (1 - self.stale)\n",
        "        R_wait[state_idx, self.states_inverted[State(l_a, l_h + 1, b_e, \"relevant\")]] = (-self.a_cost, -self.h_cost)\n",
        "\n",
        "        # network mines stale block\n",
        "        P_wait[state_idx, self.states_inverted[State(l_a, l_h, b_e, \"irrelevant\")]] = self.q * self.stale\n",
        "        R_wait[state_idx, self.states_inverted[State(l_a, l_h, b_e, \"irrelevant\")]] = (-self.a_cost, -self.h_cost)\n",
        "\n",
        "    self.P = np.array([P_wait, P_adopt, P_override, P_match])\n",
        "    self.R = np.array([R_wait, R_adopt, R_override, R_match])\n",
        "\n",
        "    # state dimension\n",
        "    self.S = self.P.shape[1]\n",
        "\n",
        "    # action dimension\n",
        "    self.A = len(self.P)\n",
        "\n",
        "  def reset(self):\n",
        "    self.current_state = State(0, 0, 0, \"irrelevant\")\n",
        "    return self.current_state.to_numpy()\n",
        "\n",
        "  def step(self, action):\n",
        "    p_s_new = np.random.random()\n",
        "    p = 0\n",
        "    s_new = -1\n",
        "    while (p < p_s_new) and (s_new < (self.S - 1)):\n",
        "      s_new = s_new + 1\n",
        "      p = p + self.P[action][self.states_inverted[self.current_state], s_new]\n",
        "    try:\n",
        "      r = self.R[action][self.states_inverted[self.current_state], s_new]\n",
        "    except IndexError:\n",
        "      try:\n",
        "        r = self.R[self.states_inverted[self.current_state], action]\n",
        "      except IndexError:\n",
        "        r = self.R[self.states_inverted[self.current_state]]\n",
        "    self.current_state = self.states[s_new]\n",
        "    return (self.current_state.to_numpy(), np.array(r).astype(np.float32))\n",
        "\n"
      ],
      "metadata": {
        "id": "M-CRaClLjUdz"
      },
      "execution_count": 5,
      "outputs": []
    },
    {
      "cell_type": "code",
      "source": [
        "p = 0.4\n",
        "stale = 0.1\n",
        "gamma = 0.5\n",
        "cost = 0\n",
        "env = MiningEnv(p=p, stale=stale, gamma = gamma, cost = cost)"
      ],
      "metadata": {
        "id": "TdTq-oNGSJtY"
      },
      "execution_count": 6,
      "outputs": []
    },
    {
      "cell_type": "code",
      "source": [
        "env.step(0)"
      ],
      "metadata": {
        "colab": {
          "base_uri": "https://localhost:8080/"
        },
        "id": "GwPZPXDHz9GE",
        "outputId": "e44f4f02-1426-4861-9b3b-56f935ae8f78"
      },
      "execution_count": 7,
      "outputs": [
        {
          "output_type": "execute_result",
          "data": {
            "text/plain": [
              "(array([1, 0, 0, 0]), array([-0., -0.], dtype=float32))"
            ]
          },
          "metadata": {},
          "execution_count": 7
        }
      ]
    },
    {
      "cell_type": "markdown",
      "source": [
        "# DQN"
      ],
      "metadata": {
        "id": "-9cTz6jRVgp5"
      }
    },
    {
      "cell_type": "code",
      "source": [
        "import os\n",
        "import random\n",
        "import numpy as np\n",
        "import torch\n",
        "import torch.nn as nn\n",
        "import torch.optim as optim\n",
        "import torch.nn.functional as F\n",
        "import torch.autograd as autograd\n",
        "from torch.autograd import Variable\n",
        "from collections import deque, namedtuple"
      ],
      "metadata": {
        "id": "lMEOJZwUzVNt"
      },
      "execution_count": 8,
      "outputs": []
    },
    {
      "cell_type": "code",
      "source": [
        "class Match(enum.IntEnum):\n",
        "  irrelevant = 0,\n",
        "  relevant = 1,\n",
        "  active = 2\n",
        "\n",
        "class Action(enum.IntEnum):\n",
        "  wait = 0,\n",
        "  adopt = 1,\n",
        "  override = 2,\n",
        "  match = 3\n",
        "\n",
        "action_size = 4\n",
        "state_size = 4"
      ],
      "metadata": {
        "id": "HVLwdBP00p9F"
      },
      "execution_count": 9,
      "outputs": []
    },
    {
      "cell_type": "code",
      "source": [
        "# Creating the architecture of the network\n",
        "class Network(nn.Module):\n",
        "  # number of input neurons = size of the dimensions of the state (8)\n",
        "  # number of actions\n",
        "  # random seed\n",
        "  def __init__(self, state_size, action_size, seed = 42):\n",
        "    super(Network, self).__init__()\n",
        "    # Sets the seed for generating random numbers\n",
        "    self.seed = torch.manual_seed(seed)\n",
        "    # first full connection between the input layer and hidden layer\n",
        "    self.fc1 = nn.Linear(state_size, 64)\n",
        "    # second full connection layer between first hidden layer and second layer\n",
        "    self.fc2 = nn.Linear(64, 128)\n",
        "    # connetion between the second hidden layer and the output layer\n",
        "    self.fc3 = nn.Linear(128, 64)\n",
        "    self.fc4 = nn.Linear(64, action_size)\n",
        "\n",
        "  # forward propogation from input layer to the output layer\n",
        "  def forward(self, state):\n",
        "    # applying activation function (propogate the signal from input layer\n",
        "    # to the first hidden layer applying activation function)\n",
        "    x = self.fc1(state)\n",
        "    x = F.relu(x)\n",
        "    x = self.fc2(x)\n",
        "    x = F.relu(x)\n",
        "    x = self.fc3(x)\n",
        "    x = F.relu(x)\n",
        "    return self.fc4(x)"
      ],
      "metadata": {
        "id": "_BqOBOqS1Avm"
      },
      "execution_count": 10,
      "outputs": []
    },
    {
      "cell_type": "markdown",
      "source": [
        "## Training the agent"
      ],
      "metadata": {
        "id": "bwfu4bQcb5SL"
      }
    },
    {
      "cell_type": "code",
      "source": [
        "p = 0.4\n",
        "stale = 0.1\n",
        "gamma = 0.5\n",
        "cost = 0\n",
        "# setup up the environment\n",
        "env = MiningEnv(p=p, stale=stale, gamma = gamma, cost = cost)"
      ],
      "metadata": {
        "id": "6hWf40Ptb3yq"
      },
      "execution_count": 11,
      "outputs": []
    },
    {
      "cell_type": "markdown",
      "source": [
        "## Initialize hyper parameters\n"
      ],
      "metadata": {
        "id": "CxcAenGqcUep"
      }
    },
    {
      "cell_type": "code",
      "source": [
        "learning_rate = 5e-4\n",
        "# size of each batch where the model will be trained\n",
        "minibatch_size = 100\n",
        "discount_factor = 0.99\n",
        "# size of the replay buffer\n",
        "replay_buffer_size = int(1e5)\n",
        "interpolation_parameter = 1e-3"
      ],
      "metadata": {
        "id": "pTTRd79kb7VD"
      },
      "execution_count": 12,
      "outputs": []
    },
    {
      "cell_type": "markdown",
      "source": [
        "## Implementing experience replay buffer"
      ],
      "metadata": {
        "id": "wKO_RcQOcjkw"
      }
    },
    {
      "cell_type": "code",
      "source": [
        "# Implementing experience replay\n",
        "class ReplayMemory(object):\n",
        "  # capacity -> size of the buffer\n",
        "  def __init__(self, capacity):\n",
        "    self.device = torch.device(\"cuda:0\" if torch.cuda.is_available() else \"cpu\")\n",
        "    self.capacity = capacity\n",
        "    self.memory = []\n",
        "\n",
        "  # append a new transition in the memory and ensures that memory contain\n",
        "  # only 100000 transitions\n",
        "  def push(self, event):\n",
        "    self.memory.append(event)\n",
        "    # check if buffer does not exceed the capacity\n",
        "    if len(self.memory) > self.capacity:\n",
        "      del self.memory[0]\n",
        "\n",
        "  # batch_size -> number of experiences sampled in a batch\n",
        "  # each experience contains (state,action,reward,nextstate,boolean done)\n",
        "  def sample(self, batch_size):\n",
        "    experiences = random.sample(self.memory, k=batch_size)\n",
        "    # all the states corresponding to all experiences\n",
        "    # next converting to torch tensor\n",
        "    # finally move to the designated computing device\n",
        "    states = torch.from_numpy(np.vstack([e[0] for e in experiences if e is not None])).float().to(self.device)\n",
        "    # actions\n",
        "    actions = torch.from_numpy(np.vstack([e[1] for e in experiences if e is not None])).long().to(self.device)\n",
        "    # rewards\n",
        "    rewards = torch.from_numpy(np.vstack([e[2] for e in experiences if e is not None])).float().to(self.device)\n",
        "    # next states\n",
        "    next_states = torch.from_numpy(np.vstack([e[3] for e in experiences if e is not None])).float().to(self.device)\n",
        "    return states, next_states, actions, rewards"
      ],
      "metadata": {
        "id": "GfvTb2hLceWC"
      },
      "execution_count": 13,
      "outputs": []
    },
    {
      "cell_type": "markdown",
      "source": [
        "## Implementing DQN class\n",
        "\n"
      ],
      "metadata": {
        "id": "cdztmUgfdbmJ"
      }
    },
    {
      "cell_type": "code",
      "source": [
        "class Agent():\n",
        "  def __init__(self, state_size, action_size):\n",
        "    self.device = torch.device('cuda:0' if torch.cuda.is_available() else 'cpu')\n",
        "    self.state_size = state_size\n",
        "    self.action_size = action_size\n",
        "\n",
        "    # local q network of adversary\n",
        "    self.a_local_qnetwork = Network(state_size, action_size).to(self.device)\n",
        "    # target q network of adversary\n",
        "    self.a_target_qnetwork = Network(state_size, action_size).to(self.device)\n",
        "    # local q network of honest\n",
        "    self.h_local_qnetwork = Network(state_size, action_size).to(self.device)\n",
        "    # target q network of honest\n",
        "    self.h_target_qnetwork = Network(state_size, action_size).to(self.device)\n",
        "\n",
        "    # parameters are the weights of the network\n",
        "    self.a_optimizer = optim.Adam(self.local_qnetwork.parameters(), lr=learning_rate)\n",
        "    self.h_optimizer = optim.Adam(self.local_qnetwork.parameters(), lr=learning_rate)\n",
        "\n",
        "    # replay memory\n",
        "    self.memory = ReplayMemory(replay_buffer_size)\n",
        "    # timestep to decide when to learn from the experirences\n",
        "    self.t_step = 0\n",
        "\n",
        "# method to store exp and decide when to learn from them\n",
        "  def step(self, state, action, reward, next_state):\n",
        "    self.memory.push((state, action, reward, next_state))\n",
        "    # when timestep reaches 4 the model will learn by taking a minibatch from the\n",
        "    # replay buffer\n",
        "    self.t_step = (self.t_step + 1) % 4\n",
        "    if self.t_step == 0:\n",
        "      # check if there are at least 100 exp in the buffer\n",
        "      if len(self.memory.memory) > minibatch_size:\n",
        "        experiences = self.memory.sample(100)\n",
        "        self.learn(experiences, discount_factor)\n",
        "\n",
        "  def act(self, state, epsilon = 0.):\n",
        "    # adding an extra dimension corresponding to the batch (it indicates to which batch this state belogns to)\n",
        "    # note that always the batch index should be at the beginning\n",
        "    state = torch.from_numpy(state).float().unsqueeze(0).to(self.device)\n",
        "    # set the local network to evaluation mode before forward pass\n",
        "    # because as this is the forward pass we are making predictions\n",
        "    self.a_local_qnetwork.eval()\n",
        "    self.h_local_qnetwork.eval()\n",
        "    # since we are in forward there is no need to calculate gradients\n",
        "    with torch.no_grad():\n",
        "      # predicting q values (forward pass)\n",
        "      a_action_values = self.local_a_qnetwork(state)\n",
        "      h_action_values = self.local_h_qnetwork(state)\n",
        "    # resetting model to traning mode\n",
        "    self.a_local_qnetwork.train()\n",
        "    self.h_local_qnetwork.train()\n",
        "    # select an action based on epsilon greedy policy\n",
        "    # we generate a random number R and if R > epsilon ? we choose the maximum predicted q value\n",
        "    # : select a random aciton\n",
        "    if random.random() > epsilon:\n",
        "      # argmax returns the index of maxium value of a numpy array\n",
        "      # .data selects the tensor data and .numpy() is used to convert tensor to numpy array\n",
        "      a_actions = a_action_values.cpu().data.squeeze(0)\n",
        "      h_actions = h_action_values.cpu().data.squeeze(0)\n",
        "      return torch.argmax(a_actions / (a_actions + h_actions)).item()\n",
        "    else:\n",
        "      # selects a random index 0,1,2,3\n",
        "      return random.choice(np.arange(self.action_size))\n",
        "\n",
        "  # allows agent to learn based on the minibatch\n",
        "  def learn(self, experiences, discount_factor):\n",
        "    states, next_states, actions, rewards, dones = experiences\n",
        "    # to compute the target q value we need the maxium q value for the next state\n",
        "    # use the target network to get the q values for all the actions from that next state\n",
        "    # next_q_targets = self.a_target_qnetwork(next_states).detach().max(1)[0].unsqueeze(1)\n",
        "    # (100, 4)\n",
        "    next_a_q_targets = self.a_target_qnetwork(next_states).detach()\n",
        "    next_h_q_targets = self.h_target_qnetwork(next_states).detach()\n",
        "    # (100, 1)\n",
        "    a_ = torch.stack([next_a_q_targets[idx] / (next_a_q_targets[idx] + next_h_q_targets[idx]) for idx, _ in enumerate(next_a_q_targets)]).max(1)[1].unsqueeze(1)\n",
        "    # (100, 1)\n",
        "    q_a_targets = rewards[:, 0].unsqueeze(1) + discount_factor * next_a_q_targets.gather(1, a_)\n",
        "    q_h_targets = rewards[:, 1].unsqueeze(1) + discount_factor * next_h_q_targets.gather(1, a_)\n",
        "\n",
        "    # q_targets = rewards + (discount_factor * next_q_targets * (1 - dones))\n",
        "    # forward propogate the states to get the predicted q values\n",
        "    q_a_expected = self.a_local_qnetwork(states).gather(1, actions)\n",
        "    q_h_expected = self.h_local_qnetwork(states).gather(1, actions)\n",
        "\n",
        "    # loss (mean squared error)\n",
        "    loss_a = F.mse_loss(q_a_expected, q_a_targets)\n",
        "    loss_h = F.mse_loss(q_h_expected, q_h_targets)\n",
        "\n",
        "    # backpropogating the error to update the weights\n",
        "    self.a_optimizer.zero_grad()\n",
        "    self.h_optimizer.zero_grad()\n",
        "\n",
        "    loss_a.backward()\n",
        "    loss_h.backward()\n",
        "    # single optimization step for updating the weights\n",
        "    self.a_optimizer.step()\n",
        "    self.h_optimizer.step()\n",
        "\n",
        "    # updating the target network weights\n",
        "    self.soft_update(self.a_local_qnetwork, self.a_target_qnetwork, interpolation_parameter)\n",
        "    self.soft_update(self.h_local_qnetwork, self.h_target_qnetwork, interpolation_parameter)\n",
        "\n",
        "\n"
      ],
      "metadata": {
        "id": "IBeOBCOpdapJ"
      },
      "execution_count": 14,
      "outputs": []
    },
    {
      "cell_type": "code",
      "source": [
        "a = torch.from_numpy(np.vstack([(1,2)])).float()\n",
        "b = torch.from_numpy(np.vstack([(5,3)])).float()"
      ],
      "metadata": {
        "id": "wwcUyhZ3c7fC"
      },
      "execution_count": 63,
      "outputs": []
    },
    {
      "cell_type": "code",
      "source": [
        "c = torch.stack([a[idx] / (a[idx] + b[idx]) for idx, _ in enumerate(a)]).max(1)[1]\n",
        "c"
      ],
      "metadata": {
        "colab": {
          "base_uri": "https://localhost:8080/"
        },
        "id": "4LlOIN1m7okN",
        "outputId": "aebbd794-2d75-41d1-e61b-ee448fb325c7"
      },
      "execution_count": 47,
      "outputs": [
        {
          "output_type": "execute_result",
          "data": {
            "text/plain": [
              "tensor([1])"
            ]
          },
          "metadata": {},
          "execution_count": 47
        }
      ]
    },
    {
      "cell_type": "code",
      "source": [
        "a_ = a.cpu().data.squeeze(0)\n",
        "b_ = b.cpu().data.squeeze(0)"
      ],
      "metadata": {
        "id": "ArDLjMRUb0Oo"
      },
      "execution_count": 66,
      "outputs": []
    },
    {
      "cell_type": "code",
      "source": [
        "a_, b_"
      ],
      "metadata": {
        "colab": {
          "base_uri": "https://localhost:8080/"
        },
        "id": "359FSuzJcDFY",
        "outputId": "eb655373-d932-4384-bf99-590c6be356e4"
      },
      "execution_count": 67,
      "outputs": [
        {
          "output_type": "execute_result",
          "data": {
            "text/plain": [
              "(tensor([1., 2.]), tensor([5., 3.]))"
            ]
          },
          "metadata": {},
          "execution_count": 67
        }
      ]
    },
    {
      "cell_type": "code",
      "source": [
        "torch.argmax(a_ / (a_ + b_))"
      ],
      "metadata": {
        "colab": {
          "base_uri": "https://localhost:8080/"
        },
        "id": "BF3JEnd3dKvp",
        "outputId": "011894dd-fc9c-43fb-a1b4-308f7ce39457"
      },
      "execution_count": 71,
      "outputs": [
        {
          "output_type": "execute_result",
          "data": {
            "text/plain": [
              "tensor(1)"
            ]
          },
          "metadata": {},
          "execution_count": 71
        }
      ]
    },
    {
      "cell_type": "code",
      "source": [
        "r = a[:, 0].unsqueeze(1)"
      ],
      "metadata": {
        "id": "Cf44LxqecFMD"
      },
      "execution_count": 42,
      "outputs": []
    },
    {
      "cell_type": "code",
      "source": [
        "action_values = torch.tensor([2.5, 1.2, 10.1, 1.4])\n",
        "np.argmax(action_values.cpu().data.numpy())"
      ],
      "metadata": {
        "colab": {
          "base_uri": "https://localhost:8080/"
        },
        "id": "3ZtU38Dlc9Cx",
        "outputId": "91f64f39-34e3-4aa1-eea6-e08355434fb0"
      },
      "execution_count": 44,
      "outputs": [
        {
          "output_type": "execute_result",
          "data": {
            "text/plain": [
              "2"
            ]
          },
          "metadata": {},
          "execution_count": 44
        }
      ]
    },
    {
      "cell_type": "code",
      "source": [],
      "metadata": {
        "id": "6sXrqx3wi0Jf"
      },
      "execution_count": null,
      "outputs": []
    }
  ]
}