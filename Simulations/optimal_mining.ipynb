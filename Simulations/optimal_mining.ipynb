{
  "nbformat": 4,
  "nbformat_minor": 0,
  "metadata": {
    "colab": {
      "provenance": []
    },
    "kernelspec": {
      "name": "python3",
      "display_name": "Python 3"
    },
    "language_info": {
      "name": "python"
    }
  },
  "cells": [
    {
      "cell_type": "code",
      "source": [
        "!apt-get install texlive-latex-extra texlive-fonts-recommended dvipng cm-super"
      ],
      "metadata": {
        "id": "zr8laiOx2qf4"
      },
      "execution_count": null,
      "outputs": []
    },
    {
      "cell_type": "code",
      "execution_count": null,
      "metadata": {
        "id": "ZkN-EOGWchdO"
      },
      "outputs": [],
      "source": [
        "!pip install pymdptoolbox\n",
        "!pip install latex"
      ]
    },
    {
      "cell_type": "code",
      "source": [
        "# import libraries\n",
        "import random\n",
        "import matplotlib.pyplot as plt"
      ],
      "metadata": {
        "id": "2ATiOMoxc_4M"
      },
      "execution_count": 47,
      "outputs": []
    },
    {
      "cell_type": "markdown",
      "source": [
        "# Selfish Mining (SM1)"
      ],
      "metadata": {
        "id": "euYQUUYF-PGr"
      }
    },
    {
      "cell_type": "code",
      "source": [
        "class SM1:\n",
        "    # p -> adversary hashrate\n",
        "    # gamma -> communication capability of the adversary\n",
        "    def __init__(self, p, gamma, n_iter, show_log=False):\n",
        "        random.seed(None)\n",
        "        if p < 0 or p > 0.5:\n",
        "          raise ValueError('adversary hashrate must be in between 0 and 0.5')\n",
        "        self.p = p\n",
        "        if gamma < 0 or gamma > 1:\n",
        "          raise ValueError('gamma must be in between 0 and 1')\n",
        "        self.gamma = gamma\n",
        "        self.__show_log = show_log\n",
        "        # honest chain length\n",
        "        self.length_h = 0\n",
        "        # adversary chain length\n",
        "        self.length_a = 0\n",
        "        # chain length difference\n",
        "        self.delta = 0\n",
        "\n",
        "        self.n_block_a = 0\n",
        "        self.n_block_h = 0\n",
        "\n",
        "        self.r_a = 0\n",
        "        self.r_h = 0\n",
        "\n",
        "        self.n_blocks = 0\n",
        "        self.n_stale_blocks = 0\n",
        "\n",
        "        self.n_iter = n_iter\n",
        "\n",
        "    def __repr__(self):\n",
        "        return \"(p: %d, gamma: %d)\" % (self.p, self.gamma)\n",
        "\n",
        "    def simulate(self):\n",
        "        self.log('starting simulation')\n",
        "        iter_count = self.n_iter\n",
        "\n",
        "        for i in range(iter_count):\n",
        "            self.log(\"new block found\")\n",
        "            random_number = random.random()\n",
        "\n",
        "            # calculate delta\n",
        "            self.delta = self.length_a - self.length_h\n",
        "            # self.log('delta is : {}'.format(self.delta))\n",
        "\n",
        "            # Mining Process\n",
        "            if random_number < self.p:\n",
        "                self.mine_s()\n",
        "            else:\n",
        "                self.mine_h()\n",
        "\n",
        "        self.update_state()\n",
        "\n",
        "    def mine_s(self):\n",
        "        self.log('starting selfish mining')\n",
        "\n",
        "        self.length_a += 1\n",
        "        # self.delta = self.length_a - self.length_h\n",
        "        if self.delta == 0 and self.length_a == 2:\n",
        "            self.n_block_a += 2\n",
        "            self.length_a = 0\n",
        "            self.length_h = 0\n",
        "\n",
        "    def mine_h(self):\n",
        "        self.log('starting honest mining!')\n",
        "\n",
        "        self.length_h += 1\n",
        "        # self.delta = self.length_a - self.length_h\n",
        "        if self.delta == 0 and self.length_a == 0:\n",
        "            # print('2')\n",
        "            self.n_block_h += 1\n",
        "            self.length_a = 0\n",
        "            self.length_h = 0\n",
        "\n",
        "        elif self.delta == 0 and self.length_a == 1:\n",
        "            gamma_random = random.random()\n",
        "\n",
        "            if gamma_random < self.gamma:\n",
        "                self.n_block_a += 1\n",
        "                self.n_block_h += 1\n",
        "                self.length_a = 0\n",
        "                self.length_h = 0\n",
        "            else:\n",
        "                self.n_block_h += 2\n",
        "                self.length_a = 0\n",
        "                self.length_h = 0\n",
        "\n",
        "        elif self.delta == 2:\n",
        "            self.n_block_a += self.length_a\n",
        "            self.length_h = 0\n",
        "            self.length_a = 0\n",
        "        # delta > 2 or delta = 1\n",
        "        else:\n",
        "          return\n",
        "\n",
        "    def update_state(self):\n",
        "        self.n_blocks = self.n_block_h + \\\n",
        "            self.n_block_a\n",
        "        self.n_stale_blocks = self.n_iter - self.n_blocks\n",
        "\n",
        "        self.r_h = float(\n",
        "            self.n_block_h / self.n_blocks)\n",
        "        self.r_a = float(\n",
        "            self.n_block_a / self.n_blocks)\n",
        "\n",
        "    def get_stats(self):\n",
        "\n",
        "        print('-------------------------------------------')\n",
        "\n",
        "        print(self.__repr__())\n",
        "\n",
        "        print('honest miners win block is : {}'.format(\n",
        "            self.n_block_h))\n",
        "        print('selfish miners win block is : {}'.format(\n",
        "            self.n_block_a))\n",
        "\n",
        "        print('total mined block is : {}'.format(self.n_blocks))\n",
        "        print('total stale block is : {}'.format(self.n_stale_blocks))\n",
        "\n",
        "        print('honest miner revenue is : {}'.format(\n",
        "            self.r_h))\n",
        "        print('selfish miner revenue is : {}'.format(\n",
        "            self.r_a))\n",
        "\n",
        "        print('honest miner expected reward is : {}'.format(\n",
        "            (1 - self.p) * self.n_iter * 100 / self.n_iter))\n",
        "        print('selfish miner expected reward is : {}'.format(\n",
        "            (self.p) * self.n_iter * 100 / self.n_iter))\n",
        "\n",
        "        print('--------------------------------------------')\n",
        "\n",
        "    def log(self, log_message):\n",
        "        if self.__show_log:\n",
        "            print(log_message)\n",
        "\n",
        "    def reset(self):\n",
        "        random.seed(None)\n",
        "\n",
        "        self.length_h = 0\n",
        "        self.length_a = 0\n",
        "        self.delta = 0\n",
        "\n",
        "        self.n_block_a = 0\n",
        "        self.n_block_h = 0\n",
        "\n",
        "        self.r_a = 0\n",
        "        self.r_h = 0\n",
        "\n",
        "        self.n_blocks = 0\n",
        "        self.n_stale_blocks = 0\n",
        "\n",
        "        self.n_iter = 0"
      ],
      "metadata": {
        "id": "9oH--V3gcqrP"
      },
      "execution_count": 48,
      "outputs": []
    },
    {
      "cell_type": "code",
      "source": [
        "from scipy.signal import savgol_filter\n",
        "\n",
        "def plot_revenues(ps, gamma, stale, cutoff, cost, lam, eps=0.001, cached=False,n_iter=10000):\n",
        "  hm_revenue = []\n",
        "  sm_revenue = []\n",
        "  rev = np.zeros(ps.shape)\n",
        "  u_bounds = []\n",
        "  c = ['red', 'blue', 'green', 'black']\n",
        "  if cached:\n",
        "    rev = np.load('mdp.npy')\n",
        "\n",
        "  for idx, p in enumerate(ps):\n",
        "    print('Hashrate ', p)\n",
        "    # selfish mining (sm1)\n",
        "    sm = SM1(p, gamma, n_iter)\n",
        "    sm.simulate()\n",
        "    sm_revenue.append(sm.r_a)\n",
        "\n",
        "    # optimal strategy\n",
        "    if not(cached):\n",
        "      mdp, states, rho = optimal_strategy(p, stale, gamma, cutoff, cost, lam=lam, eps=eps)\n",
        "      rev[idx] = rho\n",
        "\n",
        "    # honest mining\n",
        "    hm_revenue.append(p)\n",
        "\n",
        "    # upper bound\n",
        "    u_bounds.append(p/(1-p))\n",
        "\n",
        "  # save mdp results\n",
        "  np.save(\"mdp.npy\", rev)\n",
        "\n",
        "  # plot optimal rho\n",
        "  plt.plot(ps, rev, 'kx', label='eps-OPT policy')\n",
        "\n",
        "  # plot selfish\n",
        "  sm_revenue_hat = savgol_filter(sm_revenue, len(ps), 3)\n",
        "  plt.plot(ps, sm_revenue_hat, color='blue', label='SM1')\n",
        "\n",
        "  # plot honest\n",
        "  plt.plot(ps, hm_revenue, color='red', linestyle='dashed', label='Honest mining')\n",
        "\n",
        "  # plot upper bound\n",
        "  plt.plot(ps, u_bounds, 'g', label='Upper Bound')\n",
        "\n",
        "  plt.xlabel(r\"Adversary hashrate $\\alpha$\", fontsize=12)\n",
        "  plt.ylabel(\"Relative revenue\", fontsize=12)\n",
        "  plt.xticks(np.arange(0, 0.5, 0.05), fontsize=12)\n",
        "  plt.yticks(fontsize=12)\n",
        "  plt.legend(loc=2, prop={'size': 12})"
      ],
      "metadata": {
        "id": "JQ7Cbv16GiRQ"
      },
      "execution_count": 158,
      "outputs": []
    },
    {
      "cell_type": "code",
      "source": [
        "# ps = [x / 100 for x in range(0, 51)]\n",
        "ps = np.arange(0.025, 0.5, 0.025)\n",
        "plot_revenues(ps, gamma=1, stale=0.01, cutoff=20, cost=0, lam=0, eps=0.1)"
      ],
      "metadata": {
        "colab": {
          "base_uri": "https://localhost:8080/",
          "height": 784
        },
        "id": "Vj0QBN7cIpNs",
        "outputId": "9b746508-8421-45c6-a592-ffdebfaff397"
      },
      "execution_count": 160,
      "outputs": [
        {
          "output_type": "stream",
          "name": "stdout",
          "text": [
            "Hashrate  0.025\n",
            "Hashrate  0.05\n",
            "Hashrate  0.07500000000000001\n",
            "Hashrate  0.1\n",
            "Hashrate  0.125\n",
            "Hashrate  0.15\n",
            "Hashrate  0.17500000000000002\n",
            "Hashrate  0.2\n",
            "Hashrate  0.225\n",
            "Hashrate  0.25\n",
            "Hashrate  0.275\n",
            "Hashrate  0.30000000000000004\n",
            "Hashrate  0.32500000000000007\n",
            "Hashrate  0.35000000000000003\n",
            "Hashrate  0.37500000000000006\n",
            "Hashrate  0.4\n",
            "Hashrate  0.42500000000000004\n",
            "Hashrate  0.45000000000000007\n",
            "Hashrate  0.47500000000000003\n"
          ]
        },
        {
          "output_type": "display_data",
          "data": {
            "text/plain": [
              "<Figure size 640x480 with 1 Axes>"
            ],
            "image/png": "[encoded data removed]"
          },
          "metadata": {}
        }
      ]
    },
    {
      "cell_type": "code",
      "source": [
        "a = np.array([1,2,3])\n",
        "np.save('test3.npy', a)\n",
        "d = np.load('test3.npy')\n",
        "print(d)"
      ],
      "metadata": {
        "colab": {
          "base_uri": "https://localhost:8080/"
        },
        "id": "FPVjxJrgMut-",
        "outputId": "e7de61ea-2065-42d4-88e0-a0fe03e884bd"
      },
      "execution_count": 144,
      "outputs": [
        {
          "output_type": "stream",
          "name": "stdout",
          "text": [
            "[1 2 3]\n"
          ]
        }
      ]
    },
    {
      "cell_type": "markdown",
      "source": [
        "# Optimal mining (V2)"
      ],
      "metadata": {
        "id": "HWpwTYH0-MDN"
      }
    },
    {
      "cell_type": "code",
      "source": [
        "import mdptoolbox\n",
        "import random\n",
        "import numpy as np\n",
        "import networkx as nx\n",
        "import matplotlib\n",
        "matplotlib.rcParams['text.usetex'] = True\n",
        "# matplotlib.rcParams.update({'font.size': 12})\n",
        "import matplotlib.pyplot as plt\n",
        "import queue as Queue\n",
        "from matplotlib.colors import LogNorm\n",
        "import seaborn\n",
        "# seaborn.set(font_scale=2.3)\n",
        "seaborn.set_style(\"whitegrid\")\n",
        "import sys"
      ],
      "metadata": {
        "id": "AeA8wbRN-Mxs"
      },
      "execution_count": 109,
      "outputs": []
    },
    {
      "cell_type": "code",
      "source": [
        "class State:\n",
        "    def __init__(self, l_a, l_h, b_e, match=\"relevant\"):\n",
        "        self.length_a = l_a\n",
        "        self.length_h = l_h\n",
        "        self.blocks_e = b_e\n",
        "        self.match = match\n",
        "\n",
        "    def __hash__(self):\n",
        "        return hash((self.length_a, self.length_h, self.blocks_e, self.match))\n",
        "\n",
        "    def __eq__(self, other):\n",
        "        try:\n",
        "            return (self.length_a, self.length_h, self.blocks_e, self.match) == (other.length_a, other.length_h, other.blocks_e, other.match)\n",
        "        except:\n",
        "            return False\n",
        "\n",
        "    def __ne__(self, other):\n",
        "        return not(self == other)\n",
        "\n",
        "    def __repr__(self):\n",
        "        return \"(%d, %d, %d, %s)\" % (self.length_a, self.length_h, self.blocks_e, self.match)"
      ],
      "metadata": {
        "id": "HIYkdalv-YD_"
      },
      "execution_count": 56,
      "outputs": []
    },
    {
      "cell_type": "code",
      "source": [
        "def namestr(obj, namespace):\n",
        "    return [name for name in namespace if namespace[name] is obj]\n",
        "\n",
        "def reward(a, h, rho):\n",
        "    return (1-rho)*a - rho*h"
      ],
      "metadata": {
        "id": "Tm_JyPln-c_8"
      },
      "execution_count": 57,
      "outputs": []
    },
    {
      "cell_type": "code",
      "source": [
        "def optimal_strategy_mdp(p, stale, gamma, cutoff, cost, rho, lam=0):\n",
        "    \"\"\"\n",
        "    p: attacker hashrate as fraction of total hashrate\n",
        "    stale_rate: rate of stale blocks in honest network\n",
        "    double_spend_value: the value that the attacker gains from a successful double spend, 1 = block reward\n",
        "    gamma: fraction of honest nodes that a block from the attacker reaches before a block from the honest network (when matching)\n",
        "    gamma is not relevant for ethereum, as ethereum uses tie breaking (i.e. gamma=0.5, but the attacker can always match if the chain is long enough and he does not need to have a block prepared) -> simpler state space\n",
        "    cutoff: maximum length of either chain (needed for finite MDP)\n",
        "    m_cost: cost of mining (per state transition)\n",
        "    lam: hashrate of eclipsed miner\n",
        "\n",
        "    implicitly:\n",
        "        q = (1 - p - lam) hashrate of honest network\n",
        "        q*(1-stale) probability that the honest chain grows (in each step)\n",
        "        q*stale probability that state stays the same\n",
        "    \"\"\"\n",
        "    states = {}\n",
        "    states_inverted = {}\n",
        "    q = 1-p-lam\n",
        "    a_cost = cost*p\n",
        "    h_cost = cost*(1-p)\n",
        "\n",
        "    match_cases = [\"irrelevant\", \"relevant\", \"active\"]\n",
        "\n",
        "    # construct states\n",
        "    states_counter = 0\n",
        "    for l_a in range(cutoff + 1):\n",
        "        for l_h in range(cutoff + 1):\n",
        "            for b_e in range(l_a+1):\n",
        "                if lam == 0 and b_e > 0:\n",
        "                    continue\n",
        "                for match in match_cases:\n",
        "                    state = State(l_a, l_h, b_e, match)\n",
        "                    states[states_counter] = state\n",
        "                    states_inverted[state] = states_counter\n",
        "                    states_counter += 1\n",
        "\n",
        "    # build transition matrices\n",
        "    P_adopt    = np.zeros(shape=(states_counter, states_counter))\n",
        "    P_override = np.zeros(shape=(states_counter, states_counter))\n",
        "    P_match    = np.zeros(shape=(states_counter, states_counter))\n",
        "    P_wait     = np.zeros(shape=(states_counter, states_counter))\n",
        "\n",
        "    # build reward matrices\n",
        "    R_adopt    = np.zeros(shape=(states_counter, states_counter))\n",
        "    R_override = np.zeros(shape=(states_counter, states_counter))\n",
        "    R_match    = np.zeros(shape=(states_counter, states_counter))\n",
        "    R_wait     = np.zeros(shape=(states_counter, states_counter))\n",
        "\n",
        "    for state_idx, state in states.items():\n",
        "        l_a = state.length_a\n",
        "        l_h = state.length_h\n",
        "        b_e = state.blocks_e\n",
        "        match = state.match\n",
        "\n",
        "        # adopt\n",
        "        # attacker mines next block\n",
        "        P_adopt[state_idx, states_inverted[State(1, 0, 0, \"irrelevant\")]] = p\n",
        "        R_adopt[state_idx, states_inverted[State(1, 0, 0, \"irrelevant\")]] = reward(-a_cost, l_h -h_cost, rho)\n",
        "        # eclipsed node mines next block\n",
        "        if lam != 0:\n",
        "            P_adopt[state_idx, states_inverted[State(1, 0, 1, \"irrelevant\")]] = lam\n",
        "            R_adopt[state_idx, states_inverted[State(1, 0, 1, \"irrelevant\")]] = reward(-a_cost, l_h -h_cost, rho)\n",
        "        # network mines next block\n",
        "        P_adopt[state_idx, states_inverted[State(0, 1, 0, \"relevant\")]] = q*(1-stale)\n",
        "        R_adopt[state_idx, states_inverted[State(0, 1, 0, \"relevant\")]] = reward(-a_cost, l_h -h_cost, rho)\n",
        "        # network mines stale block\n",
        "        P_adopt[state_idx, states_inverted[State(0, 0, 0, \"irrelevant\")]] = q*stale\n",
        "        R_adopt[state_idx, states_inverted[State(0, 0, 0, \"irrelevant\")]] = reward(-a_cost, l_h -h_cost, rho)\n",
        "\n",
        "\n",
        "        # override\n",
        "        if l_a > l_h:\n",
        "            payout = (l_h+1)*(l_a - b_e)//l_a\n",
        "            new_b_e = b_e - (l_h+1 - payout)\n",
        "            # attacker mines next block\n",
        "            P_override[state_idx, states_inverted[State(l_a - l_h, 0, new_b_e, \"irrelevant\")]] = p\n",
        "            R_override[state_idx, states_inverted[State(l_a - l_h, 0, new_b_e,\"irrelevant\")]] = reward(payout - a_cost, b_e - new_b_e -h_cost, rho)\n",
        "            # eclipsed node mines next block\n",
        "            if lam != 0:\n",
        "                P_override[state_idx, states_inverted[State(l_a - l_h, 0,new_b_e + 1, \"irrelevant\")]] = lam\n",
        "                R_override[state_idx, states_inverted[State(l_a - l_h, 0,new_b_e + 1,\"irrelevant\")]] = reward(payout - a_cost, b_e - new_b_e -h_cost, rho)\n",
        "            # network mines next block\n",
        "            P_override[state_idx, states_inverted[State(l_a-l_h-1, 1, new_b_e, \"relevant\")]] = q*(1 - stale)\n",
        "            R_override[state_idx, states_inverted[State(l_a-l_h-1, 1, new_b_e, \"relevant\")]] = reward(payout - a_cost, b_e - new_b_e -h_cost, rho)\n",
        "            # network mines stale block\n",
        "            P_override[state_idx, states_inverted[State(l_a-l_h-1, 0, new_b_e, \"irrelevant\")]] = q*stale\n",
        "            R_override[state_idx, states_inverted[State(l_a-l_h-1, 0, new_b_e, \"irrelevant\")]] = reward(payout - a_cost, b_e - new_b_e -h_cost, rho)\n",
        "        else:\n",
        "            # needed for stochastic matrix, not sure if there is a better way to do this\n",
        "            P_override[state_idx, state_idx] = 1\n",
        "            R_override[state_idx, state_idx] = -100\n",
        "\n",
        "        # only allow adopt, override after cutoff\n",
        "        if l_a == cutoff or l_h == cutoff:\n",
        "            # needed for stochastic matrix, not sure if there is a better way to do this\n",
        "            P_match[state_idx, state_idx] = 1\n",
        "            R_match[state_idx, state_idx] = -100\n",
        "            P_wait[state_idx, state_idx] = 1\n",
        "            R_wait[state_idx, state_idx] = -100\n",
        "            continue\n",
        "\n",
        "        # match\n",
        "        if match == \"relevant\" and l_a >= l_h and l_h > 0:\n",
        "            payout = (l_h)*(l_a - b_e)//l_a\n",
        "            new_b_e = b_e - (l_h - payout)\n",
        "            # attacker mines next block\n",
        "            P_match[state_idx, states_inverted[State(l_a + 1, l_h, b_e, \"active\")]] = p\n",
        "            R_match[state_idx, states_inverted[State(l_a + 1, l_h, b_e, \"active\")]] = reward(- a_cost, -h_cost, rho)\n",
        "            # eclipsed node mines next block\n",
        "            if lam != 0:\n",
        "                P_match[state_idx, states_inverted[State(l_a + 1, l_h,b_e+1, \"active\")]] = lam\n",
        "                R_match[state_idx, states_inverted[State(l_a + 1, l_h,b_e+1, \"active\")]] = reward(-a_cost, -h_cost, rho)\n",
        "            # network mines next block on chain released by attacker\n",
        "            P_match[state_idx, states_inverted[State(l_a - l_h, 1, new_b_e, \"relevant\")]] = gamma*q*(1 - stale)\n",
        "            R_match[state_idx, states_inverted[State(l_a - l_h, 1, new_b_e, \"relevant\")]] = reward(payout - a_cost, b_e - new_b_e -h_cost, rho)\n",
        "            # network mines next block on honest chain\n",
        "            P_match[state_idx, states_inverted[State(l_a, l_h +  1, b_e, \"relevant\")]] = (1-gamma)*q*(1 - stale)\n",
        "            R_match[state_idx, states_inverted[State(l_a, l_h +  1, b_e, \"relevant\")]] = reward(-a_cost, -h_cost, rho)\n",
        "            # network mines stale block\n",
        "            P_match[state_idx, states_inverted[State(l_a, l_h, b_e, \"active\")]] = q*stale\n",
        "            R_match[state_idx, states_inverted[State(l_a, l_h, b_e, \"active\")]] = reward(-a_cost, -h_cost, rho)\n",
        "        else:\n",
        "            # needed for stochastic matrix, not sure if there is a better way to do this\n",
        "            P_match[state_idx, state_idx] = 1\n",
        "            R_match[state_idx, state_idx] = -100\n",
        "\n",
        "        # wait\n",
        "        if match == \"active\" and l_a >= l_h and l_h >0:\n",
        "            payout = (l_h)*(l_a - b_e)//l_a\n",
        "            new_b_e = b_e - (l_h - payout)\n",
        "            # attacker mines next block\n",
        "            P_wait[state_idx, states_inverted[State(l_a + 1, l_h, b_e, \"active\")]] = p\n",
        "            R_wait[state_idx, states_inverted[State(l_a + 1, l_h, b_e, \"active\")]] = reward(-a_cost, -h_cost , rho)\n",
        "            # eclipsed node mines next block\n",
        "            if lam != 0:\n",
        "                P_wait[state_idx, states_inverted[State(l_a + 1, l_h,b_e+1, \"active\")]] = lam\n",
        "                R_wait[state_idx, states_inverted[State(l_a + 1, l_h,b_e+1, \"active\")]] = reward(-a_cost, -h_cost , rho)\n",
        "            # network mines next block on chain released by attacker\n",
        "            P_wait[state_idx, states_inverted[State(l_a - l_h, 1, new_b_e, \"relevant\")]] = gamma*q*(1 - stale)\n",
        "            R_wait[state_idx, states_inverted[State(l_a - l_h, 1, new_b_e, \"relevant\")]] = reward(payout - a_cost, b_e - new_b_e -h_cost, rho)\n",
        "            # network mines next block on honest chain\n",
        "            P_wait[state_idx, states_inverted[State(l_a, l_h +  1, b_e, \"relevant\")]] = (1-gamma)*q*(1 - stale)\n",
        "            R_wait[state_idx, states_inverted[State(l_a, l_h +  1, b_e, \"relevant\")]] = reward(-a_cost, -h_cost, rho)\n",
        "            # network mines stale block\n",
        "            P_wait[state_idx, states_inverted[State(l_a, l_h, b_e, \"active\")]] = q*stale\n",
        "            R_wait[state_idx, states_inverted[State(l_a, l_h, b_e, \"active\")]] = reward(-a_cost, -h_cost, rho)\n",
        "        else:\n",
        "            # attacker mines next block\n",
        "            P_wait[state_idx, states_inverted[State(l_a + 1, l_h, b_e, \"irrelevant\")]] = p\n",
        "            R_wait[state_idx, states_inverted[State(l_a + 1, l_h, b_e, \"irrelevant\")]] = reward(-a_cost, -h_cost, rho)\n",
        "            # eclipsed node mines next block\n",
        "            if lam != 0:\n",
        "                P_wait[state_idx, states_inverted[State(l_a + 1, l_h,b_e+1, \"irrelevant\")]] = lam\n",
        "                R_wait[state_idx, states_inverted[State(l_a + 1, l_h,b_e+1, \"irrelevant\")]] = reward(-a_cost, -h_cost, rho)\n",
        "            # network mines next block\n",
        "            P_wait[state_idx, states_inverted[State(l_a, l_h + 1, b_e, \"relevant\")]] = q*(1 - stale)\n",
        "            R_wait[state_idx, states_inverted[State(l_a, l_h + 1, b_e, \"relevant\")]] = reward(-a_cost, -h_cost, rho)\n",
        "            # network mines stale block\n",
        "            P_wait[state_idx, states_inverted[State(l_a, l_h, b_e, \"irrelevant\")]] = q*stale\n",
        "            R_wait[state_idx, states_inverted[State(l_a, l_h, b_e, \"irrelevant\")]] = reward(-a_cost, -h_cost, rho)\n",
        "\n",
        "\n",
        "    P = [P_wait, P_adopt, P_override, P_match]\n",
        "    for i,p in enumerate(P):\n",
        "        try:\n",
        "            mdptoolbox.util.checkSquareStochastic(p)\n",
        "        except:\n",
        "            print(\"not stochastic:\", i)\n",
        "            print(p)\n",
        "    R = [R_wait, R_adopt, R_override, R_match]\n",
        "    #mdp = mdptoolbox.mdp.FiniteHorizon(P, R, 0.999, max_blocks)\n",
        "    #mdp = mdptoolbox.mdp.ValueIteration(P, R, 0.999)\n",
        "    #mdp = mdptoolbox.mdp.QLearning(P, R, 0.999)\n",
        "    mdp = mdptoolbox.mdp.PolicyIteration(P, R, 0.999)\n",
        "    #mdp.setVerbose()\n",
        "    mdp.run()\n",
        "    return mdp, states"
      ],
      "metadata": {
        "id": "I3XvNYzR-g5Z"
      },
      "execution_count": 76,
      "outputs": []
    },
    {
      "cell_type": "code",
      "source": [
        "def optimal_strategy(p,stale, gamma, cutoff, cost, lam=0, eps=0.001):\n",
        "    low = 0.0\n",
        "    high = 1.0\n",
        "    while high - low >= eps/8:\n",
        "        rho = (low + high)/2\n",
        "        mdp, states = optimal_strategy_mdp(p,stale, gamma, cutoff, cost, rho, lam)\n",
        "        if mdp.V[0] > 0:\n",
        "            low = rho\n",
        "        else:\n",
        "            high = rho\n",
        "    return mdp, states, rho"
      ],
      "metadata": {
        "id": "yfe5IXrY-pge"
      },
      "execution_count": 62,
      "outputs": []
    },
    {
      "cell_type": "code",
      "source": [
        "def state_graph(states, transitions, policy):\n",
        "    policy_colors = [\"blue\", \"red\", \"grey\", \"yellow\", \"green\"]\n",
        "    G = nx.DiGraph()\n",
        "    q = Queue.Queue()\n",
        "    visited = [False]*len(states)\n",
        "    visited[0] = True\n",
        "    q.put(0)\n",
        "    while not q.empty():\n",
        "        state_idx = q.get()\n",
        "        pol = policy[state_idx]\n",
        "        G.add_node(states[state_idx], color=policy_colors[pol], style=\"filled\")\n",
        "        for i, p in enumerate(transitions[pol][state_idx]):\n",
        "            if p > 0:\n",
        "                if i == len(states):\n",
        "                    G.add_edge(states[state_idx], \"exit\", label=p)\n",
        "                else:\n",
        "                    G.add_edge(states[state_idx], states[i], label=p)\n",
        "                    if not visited[i]:\n",
        "                        q.put(i)\n",
        "                        visited[i] = True\n",
        "    return G"
      ],
      "metadata": {
        "id": "qhHstHKY-sDo"
      },
      "execution_count": 63,
      "outputs": []
    },
    {
      "cell_type": "code",
      "source": [
        "def state_table(states, transitions, policy, cutoff):\n",
        "    policy_letter = [\"w\", \"a\", \"o\", \"m\", \"e\"]\n",
        "    q = Queue.Queue()\n",
        "    table = [[['*']*3]*cutoff]*cutoff\n",
        "    visited = [False]*len(states)\n",
        "    visited[0] = True\n",
        "    q.put(0)\n",
        "    while not q.empty():\n",
        "        state_idx = q.get()\n",
        "        pol = policy[state_idx]\n",
        "        state = states[state_idx]\n",
        "        if state.match == \"irrelevant\":\n",
        "            fork_idx = 0\n",
        "        elif state.match == \"relevant\":\n",
        "            fork_idx = 1\n",
        "        elif state.match == \"active\":\n",
        "            fork_idx = 2\n",
        "        else:\n",
        "            raise ValueError('Invalid fork label')\n",
        "        table[state.length_a][state.length_h][fork_idx] = policy_letter[pol]\n",
        "        for i, p in enumerate(transitions[pol][state_idx]):\n",
        "            if p > 0:\n",
        "                if i == len(states):\n",
        "                    pass\n",
        "                else:\n",
        "                    if not visited[i]:\n",
        "                        q.put(i)\n",
        "                        visited[i] = True\n",
        "    return table"
      ],
      "metadata": {
        "id": "jUiItN1a-zXj"
      },
      "execution_count": 64,
      "outputs": []
    },
    {
      "cell_type": "code",
      "source": [
        "def absolute_reward(p, stale, gamma, cutoff, n_blocks, n_iterations):\n",
        "    mdp, states, rho = optimal_strategy(p, stale, gamma, cutoff, 0)\n",
        "    policy = mdp.policy\n",
        "    P = mdp.P\n",
        "    R = mdp.R\n",
        "    states_inv = dict(map(reversed, states.items()))\n",
        "    rewards = n_iterations * [0]\n",
        "    for j in range(n_iterations):\n",
        "        state = states[0]\n",
        "        reward = 0\n",
        "        for i in range(n_blocks):\n",
        "            state_idx = states_inv[state]\n",
        "            pol = policy[state_idx]\n",
        "            r = random.random()\n",
        "            for idx, prob in enumerate(P[pol][state_idx]):\n",
        "                if r < prob:\n",
        "                    if pol == 2:\n",
        "                        reward += state.length_h + 1\n",
        "                    if pol == 3 and state.length_a - state.length_h == states[idx].length_a:\n",
        "                        reward += state.length_h\n",
        "                    state = states[idx]\n",
        "                    break\n",
        "                else:\n",
        "                    r -= prob\n",
        "        rewards[j] = reward\n",
        "    print(\"Selfish: \",sum(rewards)/float(n_iterations))\n",
        "    #print rewards\n",
        "    print(\"Honest: \", n_blocks*p)"
      ],
      "metadata": {
        "id": "eRSSAY1c-73o"
      },
      "execution_count": 77,
      "outputs": []
    },
    {
      "cell_type": "code",
      "source": [
        "def print_table(table):\n",
        "    l = len(table)\n",
        "    print(r\"\\begin{tabular}{@{}c|\"+ l*'c' +r\"@{}}\")\n",
        "    print(r\"\\toprule\")\n",
        "    print('& ' + ' & '.join(str(x) for x in range(l)) + r'\\\\')\n",
        "    for idx, line in enumerate(table):\n",
        "        print(str(idx) + '& ' +  ' & '.join([''.join(x) for x in line]) + r'\\\\')\n",
        "        if idx < l-1:\n",
        "            print(r'\\midrule')\n",
        "    print(r\"\\bottomrule\")\n",
        "    print(r\"\\end{tabular}\")"
      ],
      "metadata": {
        "id": "Mh7uKpe2_H12"
      },
      "execution_count": 67,
      "outputs": []
    },
    {
      "cell_type": "code",
      "source": [
        "def hashrate_lam_plot(stale, gamma, cost, cutoff=20):\n",
        "    ps = np.arange(0.025, 0.5, 0.025)\n",
        "    lams = np.arange(0.0, 0.5, 0.025)\n",
        "    revs = np.zeros([len(ps), len(lams)])\n",
        "    eps = 0.001\n",
        "    for p_idx, p in enumerate(ps):\n",
        "        for lam_idx, lam in enumerate(lams):\n",
        "            print(p, lam)\n",
        "            mdp, states, rho = optimal_strategy(p, stale, gamma, cutoff, cost, lam=lam, eps=eps)\n",
        "            revs[p_idx, lam_idx] = rho\n",
        "\n",
        "    np.save(\"hashrate_om_selfish_co%dg%.2fs%.4fc%.2f.npy\" % (cutoff, gamma, stale, cost), revs)\n",
        "    plt.pcolor(ps, lams, revs.T)\n",
        "    cbar = plt.colorbar()\n",
        "    cbar.set_label(\"Relative reward\")\n",
        "    plt.ylabel(\"Eclipsed node hashrate $\\omega$\")\n",
        "    plt.xlabel(r\"Adversary hashrate $\\alpha$\")\n",
        "    fig = plt.gcf()\n",
        "    fig.tight_layout()\n",
        "    fig.set_size_inches(10,7)\n",
        "    plt.savefig(\"hashrate_om_selfish_co%dg%.2fs%.4fc%.2f.eps\" % (cutoff, gamma, stale, cost))\n",
        "    plt.close()"
      ],
      "metadata": {
        "id": "RB8MwPBp_UQh"
      },
      "execution_count": 69,
      "outputs": []
    },
    {
      "cell_type": "code",
      "source": [
        "def relative_reward(stale, gamma, cutoff, cost, lam=0, eps=0.001):\n",
        "    ps = np.arange(0.025, 0.5, 0.025)\n",
        "    rev = np.zeros(ps.shape)\n",
        "    for idx,p in enumerate(ps):\n",
        "        print(p)\n",
        "        mdp, states, rho = optimal_strategy(p, stale, gamma, cutoff, cost, lam=lam, eps=eps)\n",
        "        rev[idx] = rho\n",
        "    np.save(\"selfish_co%ds%.4fg%.2fc%.2fom%.2f.npy\" % (cutoff, stale, gamma, cost, lam), rev)\n",
        "    plt.plot(ps, rev)\n",
        "    plt.xlabel(r\"Adversary hashrate $\\alpha$\")\n",
        "    plt.ylabel(\"Relative revenue\")\n",
        "    plt.savefig(\"selfish_co%ds%.4fg%.2fc%.2fom%.2f.png\" % (cutoff, stale, gamma, cost, lam))"
      ],
      "metadata": {
        "id": "klwqcMaT_XRg"
      },
      "execution_count": 70,
      "outputs": []
    },
    {
      "cell_type": "code",
      "source": [
        "def markov_chain(states, transitions, policy):\n",
        "    import pykov\n",
        "    T = pykov.Chain()\n",
        "    q = Queue.Queue()\n",
        "    visited = [False]*len(states)\n",
        "    visited[0] = True\n",
        "    q.put(0)\n",
        "    start = pykov.Vector({states[0]:1})\n",
        "    while not q.empty():\n",
        "        state_idx = q.get()\n",
        "        pol = policy[state_idx]\n",
        "        for i, p in enumerate(transitions[pol][state_idx]):\n",
        "            if p > 0:\n",
        "                if i == len(states):\n",
        "                    T[(states[state_idx], \"exit\")] = p\n",
        "                    T[(\"exit\", \"exit\")] = 1\n",
        "                else:\n",
        "                    T[(states[state_idx], states[i])] = p\n",
        "                    if not visited[i]:\n",
        "                        q.put(i)\n",
        "                        visited[i] = True\n",
        "    return T, start"
      ],
      "metadata": {
        "id": "KpOVTXE1_c7o"
      },
      "execution_count": 71,
      "outputs": []
    },
    {
      "cell_type": "code",
      "source": [
        "def markov_matrix(transitions, policy):\n",
        "    n = len(policy)\n",
        "    P = np.zeros((n, n))\n",
        "    q = Queue.Queue()\n",
        "    visited = [False]*n\n",
        "    visited[0] = True\n",
        "    q.put(0)\n",
        "    while not q.empty():\n",
        "        state_idx = q.get()\n",
        "        pol = policy[state_idx]\n",
        "        for i, p in enumerate(transitions[pol][state_idx]):\n",
        "            if p > 0:\n",
        "                P[state_idx, i] = p\n",
        "                if not visited[i]:\n",
        "                    q.put(i)\n",
        "                    visited[i] = True\n",
        "    return P"
      ],
      "metadata": {
        "id": "uVd8J6hH_fH_"
      },
      "execution_count": 72,
      "outputs": []
    },
    {
      "cell_type": "code",
      "source": [
        "def rev_stale(p, gamma):\n",
        "    stales = np.arange(0, 0.525, 0.025)\n",
        "    revs = np.array([0.0]*len(stales))\n",
        "    cutoff = 20\n",
        "    for s_idx, stale in enumerate(stales):\n",
        "        print(p, stale)\n",
        "        mdp, states, rho = optimal_strategy(p, stale, gamma, cutoff, 0, lam=0, eps=0.001)\n",
        "        revs[s_idx] = rho\n",
        "        print(rho)\n",
        "    np.save(\"stale_selfish_co%dg%.2fp%.2f.npy\" % (cutoff, gamma, p), revs)"
      ],
      "metadata": {
        "id": "OwJd4doa_hqn"
      },
      "execution_count": 74,
      "outputs": []
    },
    {
      "cell_type": "code",
      "source": [
        "gamma = 0.5\n",
        "stale = 0.1\n",
        "cost = 0\n",
        "relative_reward(stale, gamma, 20, cost, lam=0, eps=0.1)"
      ],
      "metadata": {
        "colab": {
          "base_uri": "https://localhost:8080/",
          "height": 820
        },
        "id": "yHMkbwsh_lpP",
        "outputId": "03f7b7c9-ef5f-4aaa-c6f3-f01104721fa7"
      },
      "execution_count": 80,
      "outputs": [
        {
          "output_type": "stream",
          "name": "stdout",
          "text": [
            "0.025\n",
            "0.05\n",
            "0.07500000000000001\n",
            "0.1\n",
            "0.125\n",
            "0.15\n",
            "0.17500000000000002\n",
            "0.2\n",
            "0.225\n",
            "0.25\n",
            "0.275\n",
            "0.30000000000000004\n",
            "0.32500000000000007\n",
            "0.35000000000000003\n",
            "0.37500000000000006\n",
            "0.4\n",
            "0.42500000000000004\n",
            "0.45000000000000007\n",
            "0.47500000000000003\n"
          ]
        },
        {
          "output_type": "display_data",
          "data": {
            "text/plain": [
              "<Figure size 640x480 with 1 Axes>"
            ],
            "image/png": "[encoded data removed]"
          },
          "metadata": {}
        }
      ]
    },
    {
      "cell_type": "code",
      "source": [],
      "metadata": {
        "id": "i_EzyOYL_8Wz"
      },
      "execution_count": null,
      "outputs": []
    }
  ]
}